{
 "cells": [
  {
   "cell_type": "markdown",
   "id": "74214cb7-422c-4cdf-8b47-ee4dd03a1717",
   "metadata": {},
   "source": [
    "1. Declare two variables, `x` and `y`, and assign them integer values. Swap the\n",
    "values of these variables without using any temporary variable."
   ]
  },
  {
   "cell_type": "code",
   "execution_count": 18,
   "id": "822efda1-9264-4bf0-962f-35243ed461ef",
   "metadata": {},
   "outputs": [],
   "source": [
    "x = 10\n",
    "y = 50\n",
    "x = (x+y) #60\n",
    "y = (x-y) #10\n",
    "x = (x-y) #50"
   ]
  },
  {
   "cell_type": "code",
   "execution_count": 19,
   "id": "33efdd11-fa4e-4003-bc95-fea24478d6c5",
   "metadata": {},
   "outputs": [
    {
     "data": {
      "text/plain": [
       "(50, 10)"
      ]
     },
     "execution_count": 19,
     "metadata": {},
     "output_type": "execute_result"
    }
   ],
   "source": [
    "x,y"
   ]
  },
  {
   "cell_type": "markdown",
   "id": "704ec5f0-d201-4c35-9702-a4a3cb0db6ff",
   "metadata": {},
   "source": [
    "2. Create a program that calculates the area of a rectangle. Take the length and width as inputs from the user and store them in variables. Calculate and display the area"
   ]
  },
  {
   "cell_type": "code",
   "execution_count": 20,
   "id": "0c881713-ac27-40c2-b93d-26a2876c956f",
   "metadata": {},
   "outputs": [
    {
     "name": "stdin",
     "output_type": "stream",
     "text": [
      "Please enter length:  61\n",
      "Please enter width:  51\n"
     ]
    },
    {
     "name": "stdout",
     "output_type": "stream",
     "text": [
      "The area of the rectangle is 3111\n"
     ]
    }
   ],
   "source": [
    "l = int(input(\"Please enter length: \"))\n",
    "w = int(input(\"Please enter width: \"))\n",
    "area = l*w\n",
    "print(\"The area of the rectangle is\", area)"
   ]
  },
  {
   "cell_type": "markdown",
   "id": "4f166440-0b14-4a6e-b785-865987711750",
   "metadata": {},
   "source": [
    "3. Write a Python program that converts temperatures from Celsius to Fahrenheit. Take the temperature in Celsius as input, store it in a variable, convert it to Fahrenheit, and display the result."
   ]
  },
  {
   "cell_type": "code",
   "execution_count": 17,
   "id": "b7ec9e08-e31c-4578-adcd-5111ad4d1fc1",
   "metadata": {},
   "outputs": [
    {
     "name": "stdin",
     "output_type": "stream",
     "text": [
      "Please enter temperature in Celcius :  100\n"
     ]
    },
    {
     "name": "stdout",
     "output_type": "stream",
     "text": [
      "The temperature in Fahrenheit is 212.0\n"
     ]
    }
   ],
   "source": [
    "c = int(input(\"Please enter temperature in Celcius : \"))\n",
    "f = (9/5 * c) + 32\n",
    "print(\"The temperature in Fahrenheit is\", f)"
   ]
  },
  {
   "cell_type": "markdown",
   "id": "705cf20a-af3e-4dee-917c-d2e0f7c72aa8",
   "metadata": {},
   "source": [
    "1. Write a Python program that takes a string as input and prints the length of the string."
   ]
  },
  {
   "cell_type": "code",
   "execution_count": 22,
   "id": "42717278-9b97-4f38-89f7-e959c82f400d",
   "metadata": {},
   "outputs": [
    {
     "name": "stdin",
     "output_type": "stream",
     "text": [
      "Please enter the string of character(s) :  doiybgdbnd\n"
     ]
    },
    {
     "name": "stdout",
     "output_type": "stream",
     "text": [
      "10\n"
     ]
    }
   ],
   "source": [
    "str = (input(\"Please enter the string of character(s) : \"))\n",
    "print(len(str))"
   ]
  },
  {
   "cell_type": "markdown",
   "id": "3d4eb17f-0c2a-4965-ad20-c00e6e3d333a",
   "metadata": {},
   "source": [
    "2. Create a program that takes a sentence from the user and counts the number of vowels (a, e, i, o, u) in the string."
   ]
  },
  {
   "cell_type": "code",
   "execution_count": 31,
   "id": "592d821c-6423-43a0-9755-1063302955f6",
   "metadata": {},
   "outputs": [
    {
     "name": "stdin",
     "output_type": "stream",
     "text": [
      "Please enter the sentence :   hello how are you doing i hope all is good\n"
     ]
    },
    {
     "name": "stdout",
     "output_type": "stream",
     "text": [
      "Count of a is:  2\n",
      "Count of e is:  3\n",
      "Count of i is:  3\n",
      "Count of o is:  7\n",
      "Count of u is:  1\n"
     ]
    }
   ],
   "source": [
    "str = (input(\"Please enter the sentence : \"))\n",
    "print(\"Count of a is: \", str.count(\"a\"))\n",
    "print(\"Count of e is: \", str.count(\"e\"))\n",
    "print(\"Count of i is: \", str.count(\"i\"))\n",
    "print(\"Count of o is: \", str.count(\"o\"))\n",
    "print(\"Count of u is: \", str.count(\"u\"))"
   ]
  },
  {
   "cell_type": "markdown",
   "id": "64595be5-3595-4ede-870b-f2e058750f8f",
   "metadata": {},
   "source": [
    "3. Given a string, reverse the order of characters using string slicing and print\n",
    "the reversed string."
   ]
  },
  {
   "cell_type": "code",
   "execution_count": 33,
   "id": "06a647e1-df36-4421-8752-cec71afe76ac",
   "metadata": {},
   "outputs": [
    {
     "name": "stdin",
     "output_type": "stream",
     "text": [
      "Please enter the string :  hello how are you doing i hope all is good\n"
     ]
    },
    {
     "name": "stdout",
     "output_type": "stream",
     "text": [
      "doog si lla epoh i gniod uoy era woh olleh\n"
     ]
    }
   ],
   "source": [
    "str = (input(\"Please enter the string : \"))\n",
    "print(str[::-1])"
   ]
  },
  {
   "cell_type": "markdown",
   "id": "32c6a52e-fa42-45bc-9aba-f8f65969a5d4",
   "metadata": {},
   "source": [
    "4. Write a program that takes a string as input and checks if it is a palindrome\n",
    "(reads the same forwards and backwards)."
   ]
  },
  {
   "cell_type": "code",
   "execution_count": null,
   "id": "68562778-23c7-4696-95fd-68c5d77fe16c",
   "metadata": {},
   "outputs": [],
   "source": [
    "str = (input(\"Please enter the string : \"))\n"
   ]
  },
  {
   "cell_type": "markdown",
   "id": "120ae71a-23ea-45ea-8304-2aed30d03e6f",
   "metadata": {},
   "source": [
    "5. Create a program that takes a string as input and removes all the spaces from\n",
    "it. Print the modified string without spaces."
   ]
  },
  {
   "cell_type": "code",
   "execution_count": 38,
   "id": "cdd34150-e616-4997-84f4-efaeb065385a",
   "metadata": {},
   "outputs": [
    {
     "name": "stdin",
     "output_type": "stream",
     "text": [
      "Please enter the string :  hello how are you doing i hope all is good\n"
     ]
    },
    {
     "name": "stdout",
     "output_type": "stream",
     "text": [
      "hellohowareyoudoingihopeallisgood\n"
     ]
    }
   ],
   "source": [
    "str = (input(\"Please enter the string : \"))\n",
    "print(str.replace(\" \",\"\"))"
   ]
  },
  {
   "cell_type": "code",
   "execution_count": null,
   "id": "e5f6d543-ef1f-4976-94fc-19ade7efe3c0",
   "metadata": {},
   "outputs": [],
   "source": []
  }
 ],
 "metadata": {
  "kernelspec": {
   "display_name": "Python 3 (ipykernel)",
   "language": "python",
   "name": "python3"
  },
  "language_info": {
   "codemirror_mode": {
    "name": "ipython",
    "version": 3
   },
   "file_extension": ".py",
   "mimetype": "text/x-python",
   "name": "python",
   "nbconvert_exporter": "python",
   "pygments_lexer": "ipython3",
   "version": "3.10.8"
  }
 },
 "nbformat": 4,
 "nbformat_minor": 5
}
